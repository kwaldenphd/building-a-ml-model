{
  "nbformat": 4,
  "nbformat_minor": 0,
  "metadata": {
    "colab": {
      "name": "digital-ocean-ml-tutorial.ipynb",
      "provenance": [],
      "toc_visible": true,
      "authorship_tag": "ABX9TyNV0u/1HnoayHyCaZgwafFR",
      "include_colab_link": true
    },
    "kernelspec": {
      "name": "python3",
      "display_name": "Python 3"
    },
    "language_info": {
      "name": "python"
    }
  },
  "cells": [
    {
      "cell_type": "markdown",
      "metadata": {
        "id": "view-in-github",
        "colab_type": "text"
      },
      "source": [
        "<a href=\"https://colab.research.google.com/github/kwaldenphd/building-a-ml-model/blob/main/digital_ocean_ml_tutorial.ipynb\" target=\"_parent\"><img src=\"https://colab.research.google.com/assets/colab-badge.svg\" alt=\"Open In Colab\"/></a>"
      ]
    },
    {
      "cell_type": "markdown",
      "source": [
        "Adapted from...\n",
        "\n",
        "# Michelle Morales, \"[How to Build a Machine Learning Classifier in Python With Scikit-learn](https://www.digitalocean.com/community/tutorials/how-to-build-a-machine-learning-classifier-in-python-with-scikit-learn)\" *Digital Ocean* (24 March 2019)."
      ],
      "metadata": {
        "id": "ycsk-PW4F525"
      }
    },
    {
      "cell_type": "markdown",
      "source": [
        "## Introduction\n",
        "\n",
        "[Machine learning](https://www.digitalocean.com/community/tutorials/an-introduction-to-machine-learning) is a research field in computer science, artificial intelligence, and statistics. The focus of machine learning is to train algorithms to learn patterns and make predictions from data. Machine learning is especially valuable because it lets us use computers to automate decision-making processes.\n",
        "\n",
        "You’ll find machine learning applications everywhere. Netflix and Amazon use machine learning to make new product recommendations. Banks use machine learning to detect fraudulent activity in credit card transactions, and healthcare companies are beginning to use machine learning to monitor, assess, and diagnose patients.\n",
        "\n",
        "In this tutorial, you’ll implement a simple machine learning algorithm in Python using [Scikit-learn](http://scikit-learn.org/stable/), a machine learning tool for Python. Using a database of breast cancer tumor information, you’ll use a [Naive Bayes (NB)](http://scikit-learn.org/stable/modules/naive_bayes.html) classifer that predicts whether or not a tumor is malignant or benign.\n",
        "\n",
        "By the end of this tutorial, you’ll know how to build your very own machine learning model in Python."
      ],
      "metadata": {
        "id": "jnMzhhrlGB7M"
      }
    },
    {
      "cell_type": "markdown",
      "source": [
        "## Step 1 - Importing Scikit-Learn\n",
        "\n",
        "Let’s begin by installing the Python module Scikit-learn, one of the best and most documented machine learning libaries for Python. "
      ],
      "metadata": {
        "id": "_0XyAWUiGL8e"
      }
    },
    {
      "cell_type": "code",
      "source": [
        "# install packages in the current Jupyter kernel\n",
        "import sys\n",
        "!{sys.executable} -m pip install --user numpy\n",
        "!{sys.executable} -m pip install --user pandas\n",
        "!{sys.executable} -m pip install --user scipy\n",
        "!{sys.executable} -m pip install --user matplotlib\n",
        "!{sys.executable} -m pip install --user sckikit-learn"
      ],
      "metadata": {
        "id": "MxVi5hDAGYRv"
      },
      "execution_count": null,
      "outputs": []
    },
    {
      "cell_type": "code",
      "source": [
        "# import statements\n",
        "import numpy as np\n",
        "import pandas as pd\n",
        "import scipy\n",
        "import matplotlib\n",
        "import sklearn"
      ],
      "metadata": {
        "id": "S1YPgGmvGj5B"
      },
      "execution_count": null,
      "outputs": []
    },
    {
      "cell_type": "markdown",
      "source": [
        "Now that we have sklearn imported in our notebook, we can begin working with the dataset for our machine learning model.\n",
        "\n",
        "## Step 2 - Importing Scikit-learn's Dataset\n",
        "\n",
        "The dataset we will be working with in this tutorial is the [Breast Cancer Wisconsin Diagnostic Database](http://scikit-learn.org/stable/datasets/index.html#breast-cancer-wisconsin-diagnostic-database). The dataset includes various information about breast cancer tumors, as well as classification labels of malignant or benign. The dataset has 569 instances, or data, on 569 tumors and includes information on 30 attributes, or features, such as the radius of the tumor, texture, smoothness, and area.\n",
        "\n",
        "Using this dataset, we will build a machine learning model to use tumor information to predict whether or not a tumor is malignant or benign.\n",
        "\n",
        "Scikit-learn comes installed with various datasets which we can load into Python, and the dataset we want is included. Import and load the dataset:"
      ],
      "metadata": {
        "id": "D6lvIv6PGu_M"
      }
    },
    {
      "cell_type": "code",
      "source": [
        "# import statement\n",
        "from sklearn.datasets import load_breast_cancer\n",
        "\n",
        "# load dataset\n",
        "data = load_breast_cancer()"
      ],
      "metadata": {
        "id": "Fs33wk6NG13j"
      },
      "execution_count": null,
      "outputs": []
    },
    {
      "cell_type": "markdown",
      "source": [
        "The `data` variable represents a Python object that works like a dictionary. The important dictionary keys to consider are the classification label names (`target_names`), the actual labels (`target`), the attribute/feature names (`feature_names`), and the attributes (`data`).\n",
        "\n",
        "Attributes are a critical part of any classifier. Attributes capture important characteristics about the nature of the data. Given the label we are trying to predict (malignant versus benign tumor), possible useful attributes include the size, radius, and texture of the tumor.\n",
        "\n",
        "Create new variables for each important set of information and assign the data:"
      ],
      "metadata": {
        "id": "w2oX4IERG7YJ"
      }
    },
    {
      "cell_type": "code",
      "source": [
        "# organize data by selecting subsets to create new variables\n",
        "\n",
        "# target names/labels\n",
        "label_names = data['target_names']\n",
        "\n",
        "# target data\n",
        "labels = data['target']\n",
        "\n",
        "# feature names/labels\n",
        "feature_names = data['feature_names']\n",
        "\n",
        "# feature data\n",
        "features = data['data']"
      ],
      "metadata": {
        "id": "n64Eed1YHCZ7"
      },
      "execution_count": null,
      "outputs": []
    },
    {
      "cell_type": "markdown",
      "source": [
        "We now have [lists](https://www.digitalocean.com/community/tutorials/understanding-lists-in-python-3) for each set of information. \n",
        "\n",
        "To get a better understanding of our dataset, let’s take a look at our data by printing our class labels, the first data instance’s label, our feature names, and the feature values for the first data instance:"
      ],
      "metadata": {
        "id": "rdTeGofeHLV2"
      }
    },
    {
      "cell_type": "code",
      "source": [
        "# show label names\n",
        "print(label_names)\n",
        "\n",
        "# print first label\n",
        "print(labels[0])\n",
        "\n",
        "# show feature names\n",
        "print(feature_names[0])\n",
        "\n",
        "# print first feature\n",
        "print(features[0])"
      ],
      "metadata": {
        "id": "KayI32nPHQl9"
      },
      "execution_count": null,
      "outputs": []
    },
    {
      "cell_type": "markdown",
      "source": [
        "As the image shows, our class names are `malignant` and `benign`, which are then mapped to binary values of `0` and `1`, where `0` represents malignant tumors and `1` represents benign tumors. \n",
        "\n",
        "Therefore, our first data instance is a malignant tumor whose mean radius is `1.79900000e+01`.\n",
        "\n",
        "Now that we have our data loaded, we can work with our data to build our machine learning classifier.\n",
        "\n",
        "## Step 3 - Organizing Data Into Sets\n",
        "\n",
        "To evaluate how well a classifier is performing, you should always test the model on unseen data. Therefore, before building a model, split your data into two parts: a training set and a test set.\n",
        "\n",
        "You use the training set to train and evaluate the model during the development stage. You then use the trained model to make predictions on the unseen test set. This approach gives you a sense of the model’s performance and robustness.\n",
        "\n",
        "Fortunately, sklearn has a function called `train_test_split()`, which divides your data into these sets. Import the function and then use it to split the data:"
      ],
      "metadata": {
        "id": "0OZm3UrhHXud"
      }
    },
    {
      "cell_type": "code",
      "source": [
        "# import statement\n",
        "from sklearn.model_selection import train_test_split\n",
        "\n",
        "\n",
        "# Split our data\n",
        "train, test, train_labels, test_labels = train_test_split(features,\n",
        "                                                          labels,\n",
        "                                                          test_size=0.33,\n",
        "                                                          random_state=42)"
      ],
      "metadata": {
        "id": "7ffIdJDzHk65"
      },
      "execution_count": null,
      "outputs": []
    },
    {
      "cell_type": "markdown",
      "source": [
        "The function randomly splits the data using the `test_size` parameter. In this example, we now have a test set (`test`) that represents 33% of the original dataset. The remaining data (`train`) then makes up the training data. We also have the respective labels for both the train/test variables, i.e. train_labels and test_labels.\n",
        "\n",
        "We can now move on to training our first model.\n",
        "\n",
        "## Step 4 - Building and Evaluating the Model\n",
        "\n",
        "There are many models for machine learning, and each model has its own strengths and weaknesses. In this tutorial, we will focus on a simple algorithm that usually performs well in binary classification tasks, namely [Naive Bayes (NB)](http://scikit-learn.org/stable/modules/naive_bayes.html).\n",
        "\n",
        "First, import the `GaussianNB` module. Then initialize the model with the `GaussianNB()` function, then train the model by fitting it to the data using `gnb.fit()`:"
      ],
      "metadata": {
        "id": "OStIG3BCHoMb"
      }
    },
    {
      "cell_type": "code",
      "source": [
        "# import statement\n",
        "from sklearn.naive_bayes import GaussianNB\n",
        "\n",
        "# Initialize our classifier\n",
        "gnb = GaussianNB()\n",
        "\n",
        "# Train our classifier\n",
        "model = gnb.fit(train, train_labels)"
      ],
      "metadata": {
        "id": "w7ZF8STuH3ed"
      },
      "execution_count": null,
      "outputs": []
    },
    {
      "cell_type": "markdown",
      "source": [
        "After we train the model, we can then use the trained model to make predictions on our test set, which we do using the `predict()` function. The `predict()` function returns an array of predictions for each data instance in the test set. We can then print our predictions to get a sense of what the model determined.\n",
        "\n",
        "Use the `predict()` function with the `test` set and print the results:"
      ],
      "metadata": {
        "id": "1JJpanG4H6UY"
      }
    },
    {
      "cell_type": "code",
      "source": [
        "# Make predictions\n",
        "preds = gnb.predict(test)\n",
        "\n",
        "# show predictions\n",
        "print(preds)"
      ],
      "metadata": {
        "id": "AoTUvNN_IABD"
      },
      "execution_count": null,
      "outputs": []
    },
    {
      "cell_type": "markdown",
      "source": [
        "As you see in the Jupyter Notebook output, the `predict()` function returned an array of `0s` and `1s` which represent our predicted values for the tumor class (malignant vs. benign).\n",
        "\n",
        "Now that we have our predictions, let’s evaluate how well our classifier is performing.\n",
        "\n",
        "## Step 5 — Evaluating the Model’s Accuracy\n",
        "\n",
        "Using the array of true class labels, we can evaluate the accuracy of our model’s predicted values by comparing the two arrays (`test_labels` vs. `preds`). We will use the `sklearn` function `accuracy_score()` to determine the accuracy of our machine learning classifier. "
      ],
      "metadata": {
        "id": "Ob13zx0kICgi"
      }
    },
    {
      "cell_type": "code",
      "source": [
        "# import statement\n",
        "from sklearn.metrics import accuracy_score\n",
        "\n",
        "# Evaluate accuracy\n",
        "print(accuracy_score(test_labels, preds))"
      ],
      "metadata": {
        "id": "8TOREsbEINTS"
      },
      "execution_count": null,
      "outputs": []
    },
    {
      "cell_type": "markdown",
      "source": [
        "As you see in the output, the NB classifier is 94.15% accurate. This means that 94.15 percent of the time the classifier is able to make the correct prediction as to whether or not the tumor is malignant or benign. These results suggest that our feature set of 30 attributes are good indicators of tumor class.\n",
        "\n",
        "## Putting It All Together\n",
        "\n",
        "You have successfully built your first machine learning classifier. Let’s reorganize the code by placing all `import` statements at the top of the Notebook or script. The final version of the code should look like this: "
      ],
      "metadata": {
        "id": "w_tBMdzkIQWQ"
      }
    },
    {
      "cell_type": "code",
      "source": [
        "# import statements\n",
        "from sklearn.datasets import load_breast_cancer\n",
        "from sklearn.model_selection import train_test_split\n",
        "from sklearn.naive_bayes import GaussianNB\n",
        "from sklearn.metrics import accuracy_score\n",
        "\n",
        "# Load dataset\n",
        "data = load_breast_cancer()\n",
        "\n",
        "# Organize our data\n",
        "label_names = data['target_names']\n",
        "labels = data['target']\n",
        "feature_names = data['feature_names']\n",
        "features = data['data']\n",
        "\n",
        "# Look at our data\n",
        "print(label_names)\n",
        "print('Class label = ', labels[0])\n",
        "print(feature_names)\n",
        "print(features[0])\n",
        "\n",
        "# Split our data\n",
        "train, test, train_labels, test_labels = train_test_split(features,\n",
        "                                                          labels,\n",
        "                                                          test_size=0.33,\n",
        "                                                          random_state=42)\n",
        "\n",
        "# Initialize our classifier\n",
        "gnb = GaussianNB()\n",
        "\n",
        "# Train our classifier\n",
        "model = gnb.fit(train, train_labels)\n",
        "\n",
        "# Make predictions\n",
        "preds = gnb.predict(test)\n",
        "print(preds)\n",
        "\n",
        "# Evaluate accuracy\n",
        "print(accuracy_score(test_labels, preds))"
      ],
      "metadata": {
        "id": "A3LSIzABIWuV"
      },
      "execution_count": null,
      "outputs": []
    },
    {
      "cell_type": "markdown",
      "source": [
        "Now you can continue to work with your code to see if you can make your classifier perform even better. You could experiment with different subsets of features or even try completely different algorithms. Check out [Scikit-learn’s website](http://scikit-learn.org/stable/) for more machine learning ideas.\n",
        "\n",
        "## Conclusion\n",
        "\n",
        "In this tutorial, you learned how to build a machine learning classifier in Python. Now you can load data, organize data, train, predict, and evaluate machine learning classifiers in Python using Scikit-learn. The steps in this tutorial should help you facilitate the process of working with your own data in Python."
      ],
      "metadata": {
        "id": "1aqpq28eIaeN"
      }
    },
    {
      "cell_type": "markdown",
      "source": [
        "# Next Steps\n",
        "\n",
        "[Click here](https://github.com/kwaldenphd/building-a-ml-model/) to return to the main lab page on GitHub."
      ],
      "metadata": {
        "id": "i2J_Pfb5IxPs"
      }
    }
  ]
}