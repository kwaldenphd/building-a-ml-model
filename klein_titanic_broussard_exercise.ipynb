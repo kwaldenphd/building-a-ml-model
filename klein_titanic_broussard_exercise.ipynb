{
  "cells": [
    {
      "cell_type": "markdown",
      "metadata": {
        "id": "view-in-github",
        "colab_type": "text"
      },
      "source": [
        "<a href=\"https://colab.research.google.com/github/kwaldenphd/building-a-ml-model/blob/main/klein_titanic_broussard_exercise.ipynb\" target=\"_parent\"><img src=\"https://colab.research.google.com/assets/colab-badge.svg\" alt=\"Open In Colab\"/></a>"
      ]
    },
    {
      "cell_type": "markdown",
      "source": [
        "# Building Your Own Machine Learning Model in Python: Option #2\n",
        "\n",
        "<a href=\"http://creativecommons.org/licenses/by-nc/4.0/\" rel=\"license\"><img style=\"border-width: 0;\" src=\"https://i.creativecommons.org/l/by-nc/4.0/88x31.png\" alt=\"Creative Commons License\" /></a>\n",
        "This tutorial is licensed under a <a href=\"http://creativecommons.org/licenses/by-nc/4.0/\" rel=\"license\">Creative Commons Attribution-NonCommercial 4.0 International License</a>."
      ],
      "metadata": {
        "id": "IdNBb3imEIHW"
      }
    },
    {
      "cell_type": "markdown",
      "source": [
        "# Overview\n",
        "\n",
        "Read pages 94-114 from Meredith Broussard's 2018 book [*Artificial Unintelligence: How Computers Misunderstand the World*](https://onesearch.library.nd.edu/permalink/f/1phik6l/ndu_aleph004791189) (MIT Press). \n",
        "\n",
        "In this section of Chapter 7 \"Machine Learning: The DL on the ML,\" Broussard outlines a machine learning workflow using data about Titanic passengers.\n",
        "\n",
        "Follow the steps outlined in the chapter excerpt to build a machine learning classifier.\n",
        "\n",
        "Chapter excerpt:\n",
        "- [Access via Google Drive](https://drive.google.com/file/d/1sXJPcvk84SDB3QXCNWiKwL7AQ-gKcgh7/view?usp=sharing) (ND users only)\n",
        "- [Link to electronic access through Hesburgh Libraries](https://onesearch.library.nd.edu/permalink/f/1phik6l/ndu_aleph004791189)\n",
        "\n",
        "Jupyter notebook:\n",
        "- [Link to Jupyter Notebook](https://colab.research.google.com/drive/1dJLBUyDvQZ7qGzsUxiVbegxZkDiDRMr4?usp=sharing)\n",
        "  * SOURCE: Adapted from [Lauren F. Klein](https://lklein.com/)'s  [implementation of Broussard's exercise](https://github.com/laurenfklein/feminist-data-science/blob/master/notebooks/lab2-survival/lab2-survival-inclass.ipynb), developed for the Spring 2020 Emory University course [QTM 490 \"Feminist Data Science\"](https://github.com/laurenfklein/feminist-data-science).\n",
        "\n",
        "You'll also need two data files for  this option: `text.csv` and `train.csv`\n",
        "- GitHub\n",
        "  * Test: https://raw.githubusercontent.com/kwaldenphd/building-a-ml-model/main/data/test.csv\n",
        "  * Train: https://raw.githubusercontent.com/kwaldenphd/building-a-ml-model/main/data/train.csv\n",
        "- Google Drive\n",
        "  * [Test](https://drive.google.com/file/d/1YIKOH2upzQQUAiIqLwIqk5xdddetDsfR/view?usp=sharing)\n",
        "  * [Train](https://drive.google.com/file/d/1CcHmC4hvVrLeM8AeSHmxCJSUvdXofGN_/view?usp=sharing)\n",
        "\n",
        "This is a guided (i.e. not open-ended), moderately complex option."
      ],
      "metadata": {
        "id": "7XySKgbNETnY"
      }
    },
    {
      "cell_type": "markdown",
      "source": [
        "\n",
        "\n",
        "---\n",
        "\n"
      ],
      "metadata": {
        "id": "gMvfUKRbEaed"
      }
    },
    {
      "cell_type": "markdown",
      "metadata": {
        "id": "m0DQnN0g-gZP"
      },
      "source": [
        "<em>SOURCE: Adapted from [Lauren F. Klein](https://lklein.com/)'s  [implementation of Broussard's exercise](https://github.com/laurenfklein/feminist-data-science/blob/master/notebooks/lab2-survival/lab2-survival-inclass.ipynb), developed for the Spring 2020 Emory University course [QTM 490 \"Feminist Data Science\"](https://github.com/laurenfklein/feminist-data-science).</em>\n",
        "\n",
        "# Intersectional Survival Analysis\n",
        "\n",
        "*Lab adapted from an exercise by [Meredith Broussard](https://merbroussard.github.io/) in [Artificial Unintelligence](https://mitpress.mit.edu/books/artificial-unintelligence)*"
      ]
    },
    {
      "cell_type": "code",
      "execution_count": 3,
      "metadata": {
        "id": "HnXRNR-U-gZU"
      },
      "outputs": [],
      "source": [
        "# Libraries we need\n",
        "\n",
        "import pandas as pd # for dataframes\n",
        "import numpy as np  # for math\n",
        "from sklearn import tree, preprocessing # for our model"
      ]
    },
    {
      "cell_type": "markdown",
      "source": [
        "# Data\n",
        "\n",
        "You'll need two data files for  this option: `text.csv` and `train.csv`\n",
        "- GitHub\n",
        "  * Test: https://raw.githubusercontent.com/kwaldenphd/building-a-ml-model/main/data/test.csv\n",
        "  * Train: https://raw.githubusercontent.com/kwaldenphd/building-a-ml-model/main/data/train.csv\n",
        "- Google Drive\n",
        "  * [Test](https://drive.google.com/file/d/1YIKOH2upzQQUAiIqLwIqk5xdddetDsfR/view?usp=sharing)\n",
        "  * [Train](https://drive.google.com/file/d/1CcHmC4hvVrLeM8AeSHmxCJSUvdXofGN_/view?usp=sharing)"
      ],
      "metadata": {
        "id": "EIoG5TS5_2gS"
      }
    },
    {
      "cell_type": "markdown",
      "source": [
        "## Load from GitHub URLs"
      ],
      "metadata": {
        "id": "LtjEMYkYAOE2"
      }
    },
    {
      "cell_type": "code",
      "source": [
        "# training data\n",
        "train_df = pd.read_csv(\"https://raw.githubusercontent.com/kwaldenphd/building-a-ml-model/main/data/train.csv\")\n",
        "\n",
        "# show training data\n",
        "train_df"
      ],
      "metadata": {
        "id": "yqeZqR32_6bI"
      },
      "execution_count": null,
      "outputs": []
    },
    {
      "cell_type": "code",
      "source": [
        "# test data\n",
        "test_df = pd.read_csv(\"https://raw.githubusercontent.com/kwaldenphd/building-a-ml-model/main/data/test.csv\")\n",
        "\n",
        "# show test data\n",
        "test_df"
      ],
      "metadata": {
        "id": "Wrt5gYxqAQ8E"
      },
      "execution_count": null,
      "outputs": []
    },
    {
      "cell_type": "markdown",
      "source": [
        "## Load from Files\n",
        "\n",
        "If working with Jupyter Notebooks on your local computer, you'll need to move files into the same directory (folder) as the Jupyter Notebook.\n",
        "- Alternatively, you can provide the full file path.\n",
        "\n",
        "If working in Google CoLab, you'll either need to upload the files to your session or mount Google Drive to access the file.\n",
        "- [Uploading files](https://youtu.be/6HFlwqK3oeo?t=177)\n",
        "- [Mounting Google Drive](https://www.marktechpost.com/2019/06/07/how-to-connect-google-colab-with-google-drive/)"
      ],
      "metadata": {
        "id": "saXL4LS2AXID"
      }
    },
    {
      "cell_type": "code",
      "source": [
        "# load training data\n",
        "train_file = \"train.csv\"\n",
        "\n",
        "# create df\n",
        "train_df = pd.read_csv(train_file)\n",
        "\n",
        "# show df\n",
        "train_df"
      ],
      "metadata": {
        "id": "xOXdozaNAjAN"
      },
      "execution_count": null,
      "outputs": []
    },
    {
      "cell_type": "code",
      "execution_count": null,
      "metadata": {
        "id": "s9ZkYLiQ-gZZ"
      },
      "outputs": [],
      "source": [
        "# load test data\n",
        "test_file = \"test.csv\"\n",
        "\n",
        "# create df\n",
        "test_df = pd.read_csv(test_file)\n",
        "\n",
        "# show df\n",
        "test_df"
      ]
    },
    {
      "cell_type": "markdown",
      "metadata": {
        "id": "FG0BB11x-gZf"
      },
      "source": [
        "# Exploring the Data\n",
        "\n",
        "Some of the headers are self-explanatory, but some are not. \n",
        "\n",
        "For instance, what's `Parch`? \n",
        "\n",
        "Thanks to this dataset's [data dictionary](https://www.kaggle.com/c/titanic/data), we're able to determine the following:"
      ]
    },
    {
      "cell_type": "markdown",
      "source": [
        "## Data Dictionary\n",
        "\n",
        "| Variable  | Definition          | Key             | \n",
        "| :-------- | :------------------ | :-------------- |\n",
        "| survival  | Survival            | 0 = No, 1 = Yes | \n",
        "| pclass    | Ticket class        | 1 = 1st, 2 = 2nd, 3 = 3rd | \n",
        "| sex       | Sex                 |                           |\t\n",
        "| Age       | Age in years        |   |\n",
        "| sibsp     | # of siblings / spouses aboard the Titanic | \n",
        "| parch     | # of parents / children aboard the Titanic |\n",
        "| ticket    | Ticket number      | |\n",
        "| fare\t    | Passenger fare\t | |\n",
        "| cabin     | Cabin number\t     | |\n",
        "| embarked\t| Port of Embarkation|\tC = Cherbourg, Q = Queenstown, S = Southampton|"
      ],
      "metadata": {
        "id": "aXUg6EivBowj"
      }
    },
    {
      "cell_type": "markdown",
      "metadata": {
        "id": "Zql55efG-gZj"
      },
      "source": [
        "## Additional Variable Notes\n",
        "\n",
        "`pclass`: A proxy for socio-economic status (SES)\n",
        "  * `1` = first class (upper class)\n",
        "  * `2` = second class (middle class)\n",
        "  * `3` = third class (lower class)\n",
        "\n",
        "`age`: Age is fractional if less than 1. If the age is estimated, is it in the form of `xx.5`\n",
        "\n",
        "`sibsp`: The dataset defines family relations in this way:\n",
        "  * Sibling = brother, sister, stepbrother, stepsister\n",
        "  * Spouse = husband, wife (mistresses and fiancés were ignored)\n",
        "\n",
        "`parch`: The dataset defines family relations in this way:\n",
        "  * Parent = mother, father\n",
        "  * Child = daughter, son, stepdaughter, stepson\n",
        "  * Some children travelled only with a nanny, therefore `parch=0` for them.\n",
        "\n",
        "With this in mind, let's take a look at the first line of data and see if we can interpret it."
      ]
    },
    {
      "cell_type": "code",
      "execution_count": 8,
      "metadata": {
        "id": "Fhf2pnQD-gZm",
        "colab": {
          "base_uri": "https://localhost:8080/"
        },
        "outputId": "76071da6-f1b0-45ab-abc0-1988ba1a957f"
      },
      "outputs": [
        {
          "output_type": "execute_result",
          "data": {
            "text/plain": [
              "PassengerId                          1\n",
              "Survived                             0\n",
              "Pclass                               3\n",
              "Name           Braund, Mr. Owen Harris\n",
              "Sex                               male\n",
              "Age                                 22\n",
              "SibSp                                1\n",
              "Parch                                0\n",
              "Ticket                       A/5 21171\n",
              "Fare                              7.25\n",
              "Cabin                              NaN\n",
              "Embarked                             S\n",
              "Name: 0, dtype: object"
            ]
          },
          "metadata": {},
          "execution_count": 8
        }
      ],
      "source": [
        "# show first line of training data\n",
        "train_df.loc[0]"
      ]
    },
    {
      "cell_type": "markdown",
      "metadata": {
        "id": "MVp7e3-y-gZn"
      },
      "source": [
        "**What are we able to tell from this row data? What kind of information is included (and how is it recorded or notated)? What information might be missing or unclear?**\n",
        "\n",
        "We can also take a look at the first five rows of the test data."
      ]
    },
    {
      "cell_type": "code",
      "execution_count": 9,
      "metadata": {
        "id": "mThSwtu1-gZq",
        "colab": {
          "base_uri": "https://localhost:8080/",
          "height": 206
        },
        "outputId": "d96af636-1298-4ce8-9e67-310253badbab"
      },
      "outputs": [
        {
          "output_type": "execute_result",
          "data": {
            "text/html": [
              "\n",
              "  <div id=\"df-1ff90ab5-f1a8-4090-a8d7-574532309691\">\n",
              "    <div class=\"colab-df-container\">\n",
              "      <div>\n",
              "<style scoped>\n",
              "    .dataframe tbody tr th:only-of-type {\n",
              "        vertical-align: middle;\n",
              "    }\n",
              "\n",
              "    .dataframe tbody tr th {\n",
              "        vertical-align: top;\n",
              "    }\n",
              "\n",
              "    .dataframe thead th {\n",
              "        text-align: right;\n",
              "    }\n",
              "</style>\n",
              "<table border=\"1\" class=\"dataframe\">\n",
              "  <thead>\n",
              "    <tr style=\"text-align: right;\">\n",
              "      <th></th>\n",
              "      <th>PassengerId</th>\n",
              "      <th>Pclass</th>\n",
              "      <th>Name</th>\n",
              "      <th>Sex</th>\n",
              "      <th>Age</th>\n",
              "      <th>SibSp</th>\n",
              "      <th>Parch</th>\n",
              "      <th>Ticket</th>\n",
              "      <th>Fare</th>\n",
              "      <th>Cabin</th>\n",
              "      <th>Embarked</th>\n",
              "    </tr>\n",
              "  </thead>\n",
              "  <tbody>\n",
              "    <tr>\n",
              "      <th>0</th>\n",
              "      <td>892</td>\n",
              "      <td>3</td>\n",
              "      <td>Kelly, Mr. James</td>\n",
              "      <td>male</td>\n",
              "      <td>34.5</td>\n",
              "      <td>0</td>\n",
              "      <td>0</td>\n",
              "      <td>330911</td>\n",
              "      <td>7.8292</td>\n",
              "      <td>NaN</td>\n",
              "      <td>Q</td>\n",
              "    </tr>\n",
              "    <tr>\n",
              "      <th>1</th>\n",
              "      <td>893</td>\n",
              "      <td>3</td>\n",
              "      <td>Wilkes, Mrs. James (Ellen Needs)</td>\n",
              "      <td>female</td>\n",
              "      <td>47.0</td>\n",
              "      <td>1</td>\n",
              "      <td>0</td>\n",
              "      <td>363272</td>\n",
              "      <td>7.0000</td>\n",
              "      <td>NaN</td>\n",
              "      <td>S</td>\n",
              "    </tr>\n",
              "    <tr>\n",
              "      <th>2</th>\n",
              "      <td>894</td>\n",
              "      <td>2</td>\n",
              "      <td>Myles, Mr. Thomas Francis</td>\n",
              "      <td>male</td>\n",
              "      <td>62.0</td>\n",
              "      <td>0</td>\n",
              "      <td>0</td>\n",
              "      <td>240276</td>\n",
              "      <td>9.6875</td>\n",
              "      <td>NaN</td>\n",
              "      <td>Q</td>\n",
              "    </tr>\n",
              "    <tr>\n",
              "      <th>3</th>\n",
              "      <td>895</td>\n",
              "      <td>3</td>\n",
              "      <td>Wirz, Mr. Albert</td>\n",
              "      <td>male</td>\n",
              "      <td>27.0</td>\n",
              "      <td>0</td>\n",
              "      <td>0</td>\n",
              "      <td>315154</td>\n",
              "      <td>8.6625</td>\n",
              "      <td>NaN</td>\n",
              "      <td>S</td>\n",
              "    </tr>\n",
              "    <tr>\n",
              "      <th>4</th>\n",
              "      <td>896</td>\n",
              "      <td>3</td>\n",
              "      <td>Hirvonen, Mrs. Alexander (Helga E Lindqvist)</td>\n",
              "      <td>female</td>\n",
              "      <td>22.0</td>\n",
              "      <td>1</td>\n",
              "      <td>1</td>\n",
              "      <td>3101298</td>\n",
              "      <td>12.2875</td>\n",
              "      <td>NaN</td>\n",
              "      <td>S</td>\n",
              "    </tr>\n",
              "  </tbody>\n",
              "</table>\n",
              "</div>\n",
              "      <button class=\"colab-df-convert\" onclick=\"convertToInteractive('df-1ff90ab5-f1a8-4090-a8d7-574532309691')\"\n",
              "              title=\"Convert this dataframe to an interactive table.\"\n",
              "              style=\"display:none;\">\n",
              "        \n",
              "  <svg xmlns=\"http://www.w3.org/2000/svg\" height=\"24px\"viewBox=\"0 0 24 24\"\n",
              "       width=\"24px\">\n",
              "    <path d=\"M0 0h24v24H0V0z\" fill=\"none\"/>\n",
              "    <path d=\"M18.56 5.44l.94 2.06.94-2.06 2.06-.94-2.06-.94-.94-2.06-.94 2.06-2.06.94zm-11 1L8.5 8.5l.94-2.06 2.06-.94-2.06-.94L8.5 2.5l-.94 2.06-2.06.94zm10 10l.94 2.06.94-2.06 2.06-.94-2.06-.94-.94-2.06-.94 2.06-2.06.94z\"/><path d=\"M17.41 7.96l-1.37-1.37c-.4-.4-.92-.59-1.43-.59-.52 0-1.04.2-1.43.59L10.3 9.45l-7.72 7.72c-.78.78-.78 2.05 0 2.83L4 21.41c.39.39.9.59 1.41.59.51 0 1.02-.2 1.41-.59l7.78-7.78 2.81-2.81c.8-.78.8-2.07 0-2.86zM5.41 20L4 18.59l7.72-7.72 1.47 1.35L5.41 20z\"/>\n",
              "  </svg>\n",
              "      </button>\n",
              "      \n",
              "  <style>\n",
              "    .colab-df-container {\n",
              "      display:flex;\n",
              "      flex-wrap:wrap;\n",
              "      gap: 12px;\n",
              "    }\n",
              "\n",
              "    .colab-df-convert {\n",
              "      background-color: #E8F0FE;\n",
              "      border: none;\n",
              "      border-radius: 50%;\n",
              "      cursor: pointer;\n",
              "      display: none;\n",
              "      fill: #1967D2;\n",
              "      height: 32px;\n",
              "      padding: 0 0 0 0;\n",
              "      width: 32px;\n",
              "    }\n",
              "\n",
              "    .colab-df-convert:hover {\n",
              "      background-color: #E2EBFA;\n",
              "      box-shadow: 0px 1px 2px rgba(60, 64, 67, 0.3), 0px 1px 3px 1px rgba(60, 64, 67, 0.15);\n",
              "      fill: #174EA6;\n",
              "    }\n",
              "\n",
              "    [theme=dark] .colab-df-convert {\n",
              "      background-color: #3B4455;\n",
              "      fill: #D2E3FC;\n",
              "    }\n",
              "\n",
              "    [theme=dark] .colab-df-convert:hover {\n",
              "      background-color: #434B5C;\n",
              "      box-shadow: 0px 1px 3px 1px rgba(0, 0, 0, 0.15);\n",
              "      filter: drop-shadow(0px 1px 2px rgba(0, 0, 0, 0.3));\n",
              "      fill: #FFFFFF;\n",
              "    }\n",
              "  </style>\n",
              "\n",
              "      <script>\n",
              "        const buttonEl =\n",
              "          document.querySelector('#df-1ff90ab5-f1a8-4090-a8d7-574532309691 button.colab-df-convert');\n",
              "        buttonEl.style.display =\n",
              "          google.colab.kernel.accessAllowed ? 'block' : 'none';\n",
              "\n",
              "        async function convertToInteractive(key) {\n",
              "          const element = document.querySelector('#df-1ff90ab5-f1a8-4090-a8d7-574532309691');\n",
              "          const dataTable =\n",
              "            await google.colab.kernel.invokeFunction('convertToInteractive',\n",
              "                                                     [key], {});\n",
              "          if (!dataTable) return;\n",
              "\n",
              "          const docLinkHtml = 'Like what you see? Visit the ' +\n",
              "            '<a target=\"_blank\" href=https://colab.research.google.com/notebooks/data_table.ipynb>data table notebook</a>'\n",
              "            + ' to learn more about interactive tables.';\n",
              "          element.innerHTML = '';\n",
              "          dataTable['output_type'] = 'display_data';\n",
              "          await google.colab.output.renderOutput(dataTable, element);\n",
              "          const docLink = document.createElement('div');\n",
              "          docLink.innerHTML = docLinkHtml;\n",
              "          element.appendChild(docLink);\n",
              "        }\n",
              "      </script>\n",
              "    </div>\n",
              "  </div>\n",
              "  "
            ],
            "text/plain": [
              "   PassengerId  Pclass  ... Cabin Embarked\n",
              "0          892       3  ...   NaN        Q\n",
              "1          893       3  ...   NaN        S\n",
              "2          894       2  ...   NaN        Q\n",
              "3          895       3  ...   NaN        S\n",
              "4          896       3  ...   NaN        S\n",
              "\n",
              "[5 rows x 11 columns]"
            ]
          },
          "metadata": {},
          "execution_count": 9
        }
      ],
      "source": [
        "# check out the test data\n",
        "\n",
        "test_df.head()"
      ]
    },
    {
      "cell_type": "markdown",
      "metadata": {
        "id": "5mQFPWM7-gZs"
      },
      "source": [
        "**What are we able to tell from this row data? What kind of information is included (and how is it recorded or notated)? What information might be missing or unclear?**\n",
        "\n",
        "**How is this data similar to or different from the training data?**"
      ]
    },
    {
      "cell_type": "markdown",
      "metadata": {
        "id": "rx_QKOjF-gZw"
      },
      "source": [
        "Let's dig into our data a bit more by using the convenient `describe` function:\n",
        "\n",
        "Note that it excludes non-numeric datatypes."
      ]
    },
    {
      "cell_type": "code",
      "execution_count": null,
      "metadata": {
        "id": "ENVupsRe-gZx"
      },
      "outputs": [],
      "source": [
        "# show data description\n",
        "train_df.describe()"
      ]
    },
    {
      "cell_type": "markdown",
      "metadata": {
        "id": "dHqZT7-t-gZ0"
      },
      "source": [
        "**What information or details can we glean from using `.describe()`?**\n",
        "\n",
        "Specifically...\n",
        "- What does it mean that the count of the \"Age\" column is lower than the rest?\n",
        "- What does the mean of the \"Survived\" column tell us?\n",
        "\n",
        "The `value_counts()` function can tell us a bit more:"
      ]
    },
    {
      "cell_type": "code",
      "execution_count": null,
      "metadata": {
        "id": "LBgVgEh3-gZ4"
      },
      "outputs": [],
      "source": [
        "# show values in Survived column from training data\n",
        "train_df[\"Survived\"].value_counts()"
      ]
    },
    {
      "cell_type": "markdown",
      "metadata": {
        "id": "rgnvc9IL-gZ6"
      },
      "source": [
        "We can normalize those numbers to see how the numbers of passangers that died and the number that survived."
      ]
    },
    {
      "cell_type": "code",
      "execution_count": null,
      "metadata": {
        "id": "LZ6qijfL-gZ6"
      },
      "outputs": [],
      "source": [
        "# normalize values in Survived column\n",
        "train_df[\"Survived\"].value_counts(normalize=True) # note lowercase of \"True\" -- different than R! "
      ]
    },
    {
      "cell_type": "markdown",
      "metadata": {
        "id": "pA4E9Iy8-gZ7"
      },
      "source": [
        "**If we were going to predict only on this metric, would we predict that a random person would survive or would die?**"
      ]
    },
    {
      "cell_type": "markdown",
      "metadata": {
        "id": "-STCLVsC-gZ_"
      },
      "source": [
        "# Making Predictions\n",
        "\n",
        "**If we were going to predict only on this metric, would we predict that a random person would survive or would die?**\n",
        "\n",
        "But there were likely other factors at play on the ship.\n",
        "\n",
        "For example, the principle of \"women and children first\" was likely employed, to some degree, since it was a principle used during maritime disasters since at least the 1850s. \n",
        "\n",
        "So let's see if our intitution is correct, and that more women than men survived.\n",
        "\n",
        "First, let's see the gender breakdown on the ship:"
      ]
    },
    {
      "cell_type": "code",
      "execution_count": null,
      "metadata": {
        "id": "7XBhrwEI-gaA"
      },
      "outputs": [],
      "source": [
        "# show number of values in Sex column\n",
        "train_df[\"Sex\"].value_counts()"
      ]
    },
    {
      "cell_type": "markdown",
      "metadata": {
        "id": "2IQKU_HR-gaC"
      },
      "source": [
        "**How many men and how many women were on the ship?**\n",
        "\n",
        "Now we're going to use something called [boolean indexing](https://www.geeksforgeeks.org/boolean-indexing-in-pandas/) in order to select only the men on the ship, and then see how many of them survived and how many died:\n"
      ]
    },
    {
      "cell_type": "code",
      "execution_count": null,
      "metadata": {
        "id": "j2QUHQIt-gaC"
      },
      "outputs": [],
      "source": [
        "# show number of male passangers, grouped by survival status\n",
        "train_df[\"Survived\"][train_df[\"Sex\"] == 'male'].value_counts()"
      ]
    },
    {
      "cell_type": "markdown",
      "metadata": {
        "id": "1hY3vJU0-gaD"
      },
      "source": [
        "**Of the men, how many died and how many survived?**\n",
        "\n",
        "Let's just normalize that so we get a percentage:"
      ]
    },
    {
      "cell_type": "code",
      "execution_count": null,
      "metadata": {
        "id": "alzCMteT-gaE"
      },
      "outputs": [],
      "source": [
        "# normalized male survival status number\n",
        "train_df[\"Survived\"][train_df[\"Sex\"] == 'male'].value_counts(normalize=True)"
      ]
    },
    {
      "cell_type": "markdown",
      "metadata": {
        "id": "G8H3NwZv-gaF"
      },
      "source": [
        "**What percentage of men survived?**\n",
        "\n",
        "We can make the same calculation for female passengers."
      ]
    },
    {
      "cell_type": "code",
      "execution_count": null,
      "metadata": {
        "id": "3cJQiSq8-gaG"
      },
      "outputs": [],
      "source": [
        "# normalized female survival status number\n",
        "train_df[\"Survived\"][train_df[\"Sex\"] == 'female'].value_counts(normalize=True)"
      ]
    },
    {
      "cell_type": "markdown",
      "metadata": {
        "id": "abeIZ9OK-gaG"
      },
      "source": [
        "**What does this tell us?**\n",
        "\n",
        "Note that the 1 and 0 is inverted from the above, since value_counts defaults to list the highest number first. \n"
      ]
    },
    {
      "cell_type": "markdown",
      "metadata": {
        "id": "KxUqteIP-gaH"
      },
      "source": [
        "**If we were going to manually fill out the \"Survived\" column in the test data with a prediction, what would we predict?**"
      ]
    },
    {
      "cell_type": "markdown",
      "metadata": {
        "id": "BAA2z6jZ-gaI"
      },
      "source": [
        "## Now It's Your Turn\n",
        "\n",
        "**Check to see if pclass-- what the data dictionary describes as \"a proxy for socio-economic status\"-- turns out to matter for a person's probability of survival.**"
      ]
    },
    {
      "cell_type": "code",
      "execution_count": null,
      "metadata": {
        "id": "0Cd3PY2--gaI"
      },
      "outputs": [],
      "source": [
        "# get values for passenger class column\n",
        "train_df[\"Pclass\"].value_counts()"
      ]
    },
    {
      "cell_type": "markdown",
      "source": [
        "Modify the code used to determine survival rates by gender to determine survival rates by passenger class.\n",
        "\n",
        "Questions to consider:\n",
        "- How many of each class survived\n",
        "- Which class had the best survival rate\n",
        "\n",
        "**What percentage of \"upper\", \"middle\", and \"lower\" class people survived?**\n",
        "\n",
        "**What would an intersectional approach to this data tell us to do next?**"
      ],
      "metadata": {
        "id": "dVpN593VDWL6"
      }
    },
    {
      "cell_type": "markdown",
      "metadata": {
        "id": "6WSvptb9-gaM"
      },
      "source": [
        "# Building a Decision Tree Machine Learning Model\n",
        "\n",
        "There are many approaches to this type of question. Today, we're going to use a *decision tree* in order to build our model. \n",
        "\n",
        "A decision tree is popular type of predictive modeling algorithm. More specifially, it's a *supervised* machine learning model that is used to predict a target (in our case, whether a person survives or not) by learning *decision* rules from features (in our case specific columns in our dataset). One of the most helpful features of decision trees, for our purposes, is that it can tell us which features are most important for making the prediction.  \n",
        "\n",
        "Here's a helpful illustration of decision trees from Laurraine Li, over at *Towards Data Science*:\n",
        "\n",
        "![decision tree diagram](https://miro.medium.com/max/2000/1*WerHJ14JQAd3j8ASaVjAhw.jpeg)\n",
        "\n",
        "Based on the features that we specify from our training data, the decision tree model will ask (or \"learn\" in ML-speak) a series of questions to infer the class labels of the samples. As we can see, decision trees are attractive models if we care about interpretability.\n",
        "\n",
        "Although the diagram illustrates the concept of a decision tree based on categorical targets (classification), the same concept applies if our targets are real numbers (regression).\n",
        "\n",
        "If you want to learn more about decision trees, I'd recommend reading the rest of Li's article, \"[Classification and Regression Analysis with Decision Trees](https://towardsdatascience.com/https-medium-com-lorrli-classification-and-regression-analysis-with-decision-trees-c43cdbc58054)\"\n",
        "\n",
        "It's quite easy to implement a decision tree using Python's `sklearn` library. But before we see how easy, we need to fix one thing in our data....\n",
        "\n",
        "Remember that issue with the \"Age\" data? There was some missing, right?\n",
        "\n",
        "That will break our algorithm. So we have two choices:\n",
        "\n",
        "Exclude the people with missing ages, or make something up. \n",
        "\n",
        "So that you see how to do it, we're going to make something up. But we can talk about the implications of this later. "
      ]
    },
    {
      "cell_type": "code",
      "execution_count": null,
      "metadata": {
        "id": "He42P8uU-gaO"
      },
      "outputs": [],
      "source": [
        "# assign any missing age the median age\n",
        "\n",
        "train_df[\"Age\"] = train_df[\"Age\"].fillna(train_df[\"Age\"].median())"
      ]
    },
    {
      "cell_type": "code",
      "execution_count": null,
      "metadata": {
        "id": "OI-68M7Y-gaP"
      },
      "outputs": [],
      "source": [
        "# now we're ready to run our decision tree\n",
        "\n",
        "# first, create the target; remember, this is the prediction we're after\n",
        "\n",
        "target = train_df[\"Survived\"].values"
      ]
    },
    {
      "cell_type": "code",
      "execution_count": null,
      "metadata": {
        "id": "gED7tyn--gaQ"
      },
      "outputs": [],
      "source": [
        "# we also need to turn our \"Sex\" variable into a binary --\n",
        "# more on the problematic nature of the gender binary in a couple of classes!!!\n",
        "\n",
        "# define the transformation we're about to apply\n",
        "binary_sex = preprocessing.LabelEncoder()\n",
        "\n",
        "# fit and transform the data as defined above\n",
        "train_df[\"Sex\"] = binary_sex.fit_transform(train_df[\"Sex\"])"
      ]
    },
    {
      "cell_type": "code",
      "execution_count": null,
      "metadata": {
        "id": "SEGRFDgv-gaR"
      },
      "outputs": [],
      "source": [
        "# pull out the features we want\n",
        "features = train_df[[\"Pclass\", \"Sex\", \"Age\", \"Fare\"]].values\n",
        "\n",
        "# instantiate and fit the decision tree\n",
        "my_dtree = tree.DecisionTreeClassifier()\n",
        "my_dtree.fit(features, target)\n",
        "\n",
        "# look at the importance and score of the included features\n",
        "\n",
        "my_dtree.feature_importances_"
      ]
    },
    {
      "cell_type": "markdown",
      "metadata": {
        "id": "AWCQYzy1-gaR"
      },
      "source": [
        "Here's [an article that talks more about the math of calculating feature_importances](https://towardsdatascience.com/the-mathematics-of-decision-trees-random-forest-and-feature-importance-in-scikit-learn-and-spark-f2861df67e3). \n",
        "\n",
        "For now, just know that the higher the value, the more important the feature. Also, the feature_importances are listed in the order that the features are entered into the model. So in our case, \"Fare\" is most important, closely followed by \"Sex.\"\n",
        "\n",
        "Another metric we can take a look at is the mean accuracy, which tells you the percentage of correct predictions made. Sklearn also has this built in as the `score` function."
      ]
    },
    {
      "cell_type": "code",
      "execution_count": null,
      "metadata": {
        "id": "ezFbdjUl-gaS"
      },
      "outputs": [],
      "source": [
        "my_dtree.score(features, target)"
      ]
    },
    {
      "cell_type": "markdown",
      "metadata": {
        "id": "g2_qjioi-gaT"
      },
      "source": [
        "**What is the accuracy of our model? Are you satisfied?**\n",
        "\n",
        "**If time: apply our model to our test data--remember that batch of data that didn't have the \"Survived\" column.**"
      ]
    },
    {
      "cell_type": "code",
      "execution_count": null,
      "metadata": {
        "id": "0isrofu8-gaU"
      },
      "outputs": [],
      "source": [
        "# fill in missing data\n",
        "\n",
        "test_df[\"Fare\"] = test_df[\"Fare\"].fillna(test_df[\"Fare\"].median())\n",
        "test_df[\"Age\"] = test_df[\"Age\"].fillna(test_df[\"Age\"].median())\n",
        "\n",
        "# convert the \"Sex\" column to numbers again; we can use the same encoder\n",
        "test_df[\"Sex\"] = binary_sex.fit_transform(test_df[\"Sex\"])"
      ]
    },
    {
      "cell_type": "code",
      "execution_count": null,
      "metadata": {
        "id": "pqFM037y-gaV"
      },
      "outputs": [],
      "source": [
        "# pull out the features we want\n",
        "test_features = test_df[[\"Pclass\", \"Sex\", \"Age\", \"Fare\"]].values\n",
        "\n",
        "# make prediction\n",
        "my_prediction = my_dtree.predict(test_features)\n",
        "\n",
        "my_prediction"
      ]
    },
    {
      "cell_type": "code",
      "execution_count": null,
      "metadata": {
        "id": "K61M918L-gaV"
      },
      "outputs": [],
      "source": [
        "# cross reference w/ passenger id\n",
        "\n",
        "PassengerId= np.array(test_df[\"PassengerId\"]).astype(int)\n",
        "my_solution = pd.DataFrame(my_prediction, PassengerId, columns=[\"Survived\"])\n",
        "\n",
        "my_solution"
      ]
    },
    {
      "cell_type": "markdown",
      "source": [
        "# Next Steps\n",
        "\n",
        "[Click here](https://github.com/kwaldenphd/building-a-ml-model/) to return to the main lab page on GitHub."
      ],
      "metadata": {
        "id": "ZqOly7BgEjCs"
      }
    }
  ],
  "metadata": {
    "kernelspec": {
      "display_name": "Python 3",
      "language": "python",
      "name": "python3"
    },
    "language_info": {
      "codemirror_mode": {
        "name": "ipython",
        "version": 3
      },
      "file_extension": ".py",
      "mimetype": "text/x-python",
      "name": "python",
      "nbconvert_exporter": "python",
      "pygments_lexer": "ipython3",
      "version": "3.7.2"
    },
    "colab": {
      "name": "klein-titanic-broussard-exercise.ipynb",
      "provenance": [],
      "toc_visible": true,
      "include_colab_link": true
    }
  },
  "nbformat": 4,
  "nbformat_minor": 0
}