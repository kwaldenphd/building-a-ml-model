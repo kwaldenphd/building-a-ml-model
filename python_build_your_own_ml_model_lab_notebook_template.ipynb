{
  "nbformat": 4,
  "nbformat_minor": 0,
  "metadata": {
    "colab": {
      "name": "python-build-your-own-ml-model-lab-notebook-template.ipynb",
      "provenance": [],
      "authorship_tag": "ABX9TyO4VkrQR4Xbf4IRBMAZSgJn",
      "include_colab_link": true
    },
    "kernelspec": {
      "name": "python3",
      "display_name": "Python 3"
    },
    "language_info": {
      "name": "python"
    }
  },
  "cells": [
    {
      "cell_type": "markdown",
      "metadata": {
        "id": "view-in-github",
        "colab_type": "text"
      },
      "source": [
        "<a href=\"https://colab.research.google.com/github/kwaldenphd/building-a-ml-model/blob/main/python_build_your_own_ml_model_lab_notebook_template.ipynb\" target=\"_parent\"><img src=\"https://colab.research.google.com/assets/colab-badge.svg\" alt=\"Open In Colab\"/></a>"
      ]
    },
    {
      "cell_type": "markdown",
      "source": [
        "# Build Your Own Machine Learning Model\n",
        "\n",
        "Student name(s): **Enter your name here** (double click to edit)"
      ],
      "metadata": {
        "id": "cCPjTHZS4udx"
      }
    },
    {
      "cell_type": "markdown",
      "source": [
        "## Lab Notebook Questions"
      ],
      "metadata": {
        "id": "YMLv_23-ZQ56"
      }
    },
    {
      "cell_type": "markdown",
      "source": [
        "### <strong>For all of these options, the lab notebook consists of a narrative that documents and describes your experience working through this lab.\n",
        "<ul>\n",
        "<li>What option did you select?</li>\n",
        "<li>What challenges did you face, and how did you solve them?</li>\n",
        "<li>What did you learn about machine learning through this lab?</li>\n",
        "<li>How are you thinking about machine learning differently after this lab?</li>\n",
        "<li>Other comments/questions/observations</li>\n",
        "</ul>\n",
        "\n",
        "I encourage folks to include code and/or screenshots as part of that narrative.\n",
        "- You are welcome (but not required) to include Python code as part of that narrative.\n",
        "\n",
        "This reflection should include comments from each member of the group. These can be combined in a single notebook or submitted individually along with work completed collaboratively.\n"
      ],
      "metadata": {
        "id": "TU8VdOenZTLj"
      }
    },
    {
      "cell_type": "markdown",
      "source": [
        "\n",
        "\n",
        "---\n",
        "\n"
      ],
      "metadata": {
        "id": "TCyNKh2vLCPj"
      }
    },
    {
      "cell_type": "markdown",
      "source": [
        "**Space for notes:** Your narrative here (double click to edit)\n",
        "\n"
      ],
      "metadata": {
        "id": "ZRftVHWIWMrC"
      }
    },
    {
      "cell_type": "code",
      "source": [
        "# space for code (if needed, double click to edit)"
      ],
      "metadata": {
        "id": "dVk8oZzhXy4f"
      },
      "execution_count": null,
      "outputs": []
    }
  ]
}